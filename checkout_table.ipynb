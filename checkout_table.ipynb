{
 "cells": [
  {
   "cell_type": "code",
   "execution_count": 1,
   "id": "0f05296d",
   "metadata": {},
   "outputs": [
    {
     "name": "stdout",
     "output_type": "stream",
     "text": [
      "Files extracted to: data/uploads/extracted\n"
     ]
    }
   ],
   "source": [
    "import zipfile\n",
    "import os\n",
    "\n",
    "# Step 2: Define file paths\n",
    "zip_path = \"C:/Users/PC/Downloads/last24h__20250602.zip\"\n",
    "extract_path = \"data/uploads/extracted\"\n",
    "\n",
    "# Step 3: Ensure the extract path exists\n",
    "os.makedirs(extract_path, exist_ok=True)\n",
    "\n",
    "# Step 4: Extract ZIP file\n",
    "with zipfile.ZipFile(zip_path, 'r') as zip_ref:\n",
    "    zip_ref.extractall(extract_path)\n",
    "\n",
    "print(f\"Files extracted to: {extract_path}\")"
   ]
  },
  {
   "cell_type": "code",
   "execution_count": 7,
   "id": "e313d592",
   "metadata": {},
   "outputs": [
    {
     "name": "stdout",
     "output_type": "stream",
     "text": [
      "\n",
      "Comparison Results:\n",
      "Total headers in CSV: 94\n",
      "Total headers in JSON mapping: 93\n",
      "\n",
      "Matching headers: 93\n",
      "\n",
      "Missing headers (in JSON but not in CSV): 0\n",
      "\n",
      "Extra headers (in CSV but not in JSON): 1\n",
      "Extra headers: ['SMTP response']\n"
     ]
    },
    {
     "name": "stderr",
     "output_type": "stream",
     "text": [
      "C:\\Users\\PC\\AppData\\Local\\Temp\\ipykernel_39040\\1918556633.py:10: DtypeWarning: Columns (17,18,54,62,70,89,90,91,92,93) have mixed types. Specify dtype option on import or set low_memory=False.\n",
      "  df = pd.read_csv(file_path, delimiter=';')\n"
     ]
    }
   ],
   "source": [
    "import pandas as pd\n",
    "import json\n",
    "\n",
    "# Load the JSON mapping file\n",
    "with open('rename_mapping.json', 'r', encoding='utf-8') as f:\n",
    "    mapping = json.load(f)\n",
    "\n",
    "# Read CSV file\n",
    "file_path = \"data/uploads/extracted/last24h__20250602.csv\"\n",
    "df = pd.read_csv(file_path, delimiter=';')\n",
    "csv_headers = df.columns.tolist()\n",
    "\n",
    "# Determine which mapping to use based on the CSV content\n",
    "# You might need to adjust this logic based on your specific CSV files\n",
    "mapping_key = \"smallable_campaign_events\"  # or \"smallable_contacts\"\n",
    "\n",
    "if mapping_key in mapping:\n",
    "    json_headers = set(mapping[mapping_key].keys())\n",
    "    csv_headers_set = set(csv_headers)\n",
    "\n",
    "    # Find matching, missing, and extra headers\n",
    "    matching = csv_headers_set.intersection(json_headers)\n",
    "    missing_in_csv = json_headers - csv_headers_set\n",
    "    extra_in_csv = csv_headers_set - json_headers\n",
    "\n",
    "    # Print results\n",
    "    print(f\"\\nComparison Results:\")\n",
    "    print(f\"Total headers in CSV: {len(csv_headers)}\")\n",
    "    print(f\"Total headers in JSON mapping: {len(json_headers)}\")\n",
    "    print(f\"\\nMatching headers: {len(matching)}\")\n",
    "    \n",
    "    print(f\"\\nMissing headers (in JSON but not in CSV): {len(missing_in_csv)}\")\n",
    "    if missing_in_csv:\n",
    "        print(\"Missing headers:\", sorted(list(missing_in_csv)))\n",
    "    \n",
    "    print(f\"\\nExtra headers (in CSV but not in JSON): {len(extra_in_csv)}\")\n",
    "    if extra_in_csv:\n",
    "        print(\"Extra headers:\", sorted(list(extra_in_csv)))\n",
    "else:\n",
    "    print(f\"Mapping key '{mapping_key}' not found in JSON file\")"
   ]
  },
  {
   "cell_type": "code",
   "execution_count": 8,
   "id": "489ba301",
   "metadata": {},
   "outputs": [
    {
     "name": "stdout",
     "output_type": "stream",
     "text": [
      "\n",
      "Extra headers with their positions:\n",
      "Position | Header Name\n",
      "--------------------------------------------------\n",
      "   93    | SMTP response\n",
      "\n",
      "Total extra headers: 1\n"
     ]
    },
    {
     "name": "stderr",
     "output_type": "stream",
     "text": [
      "C:\\Users\\PC\\AppData\\Local\\Temp\\ipykernel_39040\\1886366385.py:10: DtypeWarning: Columns (17,18,54,62,70,89,90,91,92,93) have mixed types. Specify dtype option on import or set low_memory=False.\n",
      "  df = pd.read_csv(file_path, delimiter=';')\n"
     ]
    }
   ],
   "source": [
    "import pandas as pd\n",
    "import json\n",
    "\n",
    "# Load the JSON mapping file\n",
    "with open('rename_mapping.json', 'r', encoding='utf-8') as f:\n",
    "    mapping = json.load(f)\n",
    "\n",
    "# Read CSV file\n",
    "file_path = \"data/uploads/extracted/last24h__20250602.csv\"\n",
    "df = pd.read_csv(file_path, delimiter=';')\n",
    "csv_headers = df.columns.tolist()\n",
    "\n",
    "mapping_key = \"smallable_campaign_events\"  # or \"smallable_contacts\"\n",
    "\n",
    "if mapping_key in mapping:\n",
    "    json_headers = set(mapping[mapping_key].keys())\n",
    "    csv_headers_set = set(csv_headers)\n",
    "    \n",
    "    # Find extra headers\n",
    "    extra_in_csv = csv_headers_set - json_headers\n",
    "    \n",
    "    # Get positions of extra headers\n",
    "    extra_headers_info = []\n",
    "    for header in extra_in_csv:\n",
    "        position = csv_headers.index(header)\n",
    "        extra_headers_info.append((position, header))\n",
    "    \n",
    "    # Sort by position\n",
    "    extra_headers_info.sort()\n",
    "    \n",
    "    # Print results\n",
    "    print(\"\\nExtra headers with their positions:\")\n",
    "    print(\"Position | Header Name\")\n",
    "    print(\"-\" * 50)\n",
    "    for position, header in extra_headers_info:\n",
    "        print(f\"{position:^8} | {header}\")\n",
    "    \n",
    "    # Print total count\n",
    "    print(f\"\\nTotal extra headers: {len(extra_in_csv)}\")\n",
    "else:\n",
    "    print(f\"Mapping key '{mapping_key}' not found in JSON file\")"
   ]
  }
 ],
 "metadata": {
  "kernelspec": {
   "display_name": "base",
   "language": "python",
   "name": "python3"
  },
  "language_info": {
   "codemirror_mode": {
    "name": "ipython",
    "version": 3
   },
   "file_extension": ".py",
   "mimetype": "text/x-python",
   "name": "python",
   "nbconvert_exporter": "python",
   "pygments_lexer": "ipython3",
   "version": "3.9.13"
  }
 },
 "nbformat": 4,
 "nbformat_minor": 5
}
